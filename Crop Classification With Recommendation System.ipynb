{
 "cells": [
  {
   "cell_type": "code",
   "execution_count": 84,
   "id": "7bee9b73",
   "metadata": {},
   "outputs": [],
   "source": [
    "import numpy as np\n",
    "import pandas as pd\n",
    "import matplotlib.pyplot as plt"
   ]
  },
  {
   "cell_type": "markdown",
   "id": "2822305c",
   "metadata": {},
   "source": [
    "# Importing Data"
   ]
  },
  {
   "cell_type": "code",
   "execution_count": 85,
   "id": "5b6f8884",
   "metadata": {},
   "outputs": [
    {
     "data": {
      "text/html": [
       "<div>\n",
       "<style scoped>\n",
       "    .dataframe tbody tr th:only-of-type {\n",
       "        vertical-align: middle;\n",
       "    }\n",
       "\n",
       "    .dataframe tbody tr th {\n",
       "        vertical-align: top;\n",
       "    }\n",
       "\n",
       "    .dataframe thead th {\n",
       "        text-align: right;\n",
       "    }\n",
       "</style>\n",
       "<table border=\"1\" class=\"dataframe\">\n",
       "  <thead>\n",
       "    <tr style=\"text-align: right;\">\n",
       "      <th></th>\n",
       "      <th>N</th>\n",
       "      <th>P</th>\n",
       "      <th>K</th>\n",
       "      <th>temperature</th>\n",
       "      <th>humidity</th>\n",
       "      <th>ph</th>\n",
       "      <th>rainfall</th>\n",
       "      <th>label</th>\n",
       "    </tr>\n",
       "  </thead>\n",
       "  <tbody>\n",
       "    <tr>\n",
       "      <th>0</th>\n",
       "      <td>90</td>\n",
       "      <td>42</td>\n",
       "      <td>43</td>\n",
       "      <td>20.879744</td>\n",
       "      <td>82.002744</td>\n",
       "      <td>6.502985</td>\n",
       "      <td>202.935536</td>\n",
       "      <td>rice</td>\n",
       "    </tr>\n",
       "    <tr>\n",
       "      <th>1</th>\n",
       "      <td>85</td>\n",
       "      <td>58</td>\n",
       "      <td>41</td>\n",
       "      <td>21.770462</td>\n",
       "      <td>80.319644</td>\n",
       "      <td>7.038096</td>\n",
       "      <td>226.655537</td>\n",
       "      <td>rice</td>\n",
       "    </tr>\n",
       "    <tr>\n",
       "      <th>2</th>\n",
       "      <td>60</td>\n",
       "      <td>55</td>\n",
       "      <td>44</td>\n",
       "      <td>23.004459</td>\n",
       "      <td>82.320763</td>\n",
       "      <td>7.840207</td>\n",
       "      <td>263.964248</td>\n",
       "      <td>rice</td>\n",
       "    </tr>\n",
       "    <tr>\n",
       "      <th>3</th>\n",
       "      <td>74</td>\n",
       "      <td>35</td>\n",
       "      <td>40</td>\n",
       "      <td>26.491096</td>\n",
       "      <td>80.158363</td>\n",
       "      <td>6.980401</td>\n",
       "      <td>242.864034</td>\n",
       "      <td>rice</td>\n",
       "    </tr>\n",
       "    <tr>\n",
       "      <th>4</th>\n",
       "      <td>78</td>\n",
       "      <td>42</td>\n",
       "      <td>42</td>\n",
       "      <td>20.130175</td>\n",
       "      <td>81.604873</td>\n",
       "      <td>7.628473</td>\n",
       "      <td>262.717340</td>\n",
       "      <td>rice</td>\n",
       "    </tr>\n",
       "  </tbody>\n",
       "</table>\n",
       "</div>"
      ],
      "text/plain": [
       "    N   P   K  temperature   humidity        ph    rainfall label\n",
       "0  90  42  43    20.879744  82.002744  6.502985  202.935536  rice\n",
       "1  85  58  41    21.770462  80.319644  7.038096  226.655537  rice\n",
       "2  60  55  44    23.004459  82.320763  7.840207  263.964248  rice\n",
       "3  74  35  40    26.491096  80.158363  6.980401  242.864034  rice\n",
       "4  78  42  42    20.130175  81.604873  7.628473  262.717340  rice"
      ]
     },
     "execution_count": 85,
     "metadata": {},
     "output_type": "execute_result"
    }
   ],
   "source": [
    "crop = pd.read_csv(\"Crop_recommendation (2).csv\")\n",
    "crop.head()"
   ]
  },
  {
   "cell_type": "markdown",
   "id": "e9ddfb22",
   "metadata": {},
   "source": [
    "# Asq Six Question to yourself"
   ]
  },
  {
   "cell_type": "code",
   "execution_count": 86,
   "id": "3ca70c00",
   "metadata": {},
   "outputs": [
    {
     "data": {
      "text/plain": [
       "(8800, 8)"
      ]
     },
     "execution_count": 86,
     "metadata": {},
     "output_type": "execute_result"
    }
   ],
   "source": [
    "crop.shape"
   ]
  },
  {
   "cell_type": "code",
   "execution_count": 87,
   "id": "e2ae9b60",
   "metadata": {},
   "outputs": [
    {
     "name": "stdout",
     "output_type": "stream",
     "text": [
      "<class 'pandas.core.frame.DataFrame'>\n",
      "RangeIndex: 8800 entries, 0 to 8799\n",
      "Data columns (total 8 columns):\n",
      " #   Column       Non-Null Count  Dtype  \n",
      "---  ------       --------------  -----  \n",
      " 0   N            8800 non-null   int64  \n",
      " 1   P            8800 non-null   int64  \n",
      " 2   K            8800 non-null   int64  \n",
      " 3   temperature  8800 non-null   float64\n",
      " 4   humidity     8800 non-null   float64\n",
      " 5   ph           8800 non-null   float64\n",
      " 6   rainfall     8800 non-null   float64\n",
      " 7   label        8800 non-null   object \n",
      "dtypes: float64(4), int64(3), object(1)\n",
      "memory usage: 550.1+ KB\n"
     ]
    }
   ],
   "source": [
    "crop.info()"
   ]
  },
  {
   "cell_type": "code",
   "execution_count": 88,
   "id": "9efad4c4",
   "metadata": {},
   "outputs": [
    {
     "data": {
      "text/plain": [
       "N              0\n",
       "P              0\n",
       "K              0\n",
       "temperature    0\n",
       "humidity       0\n",
       "ph             0\n",
       "rainfall       0\n",
       "label          0\n",
       "dtype: int64"
      ]
     },
     "execution_count": 88,
     "metadata": {},
     "output_type": "execute_result"
    }
   ],
   "source": [
    "crop.isnull().sum()"
   ]
  },
  {
   "cell_type": "code",
   "execution_count": 89,
   "id": "1f7bf8c5",
   "metadata": {},
   "outputs": [
    {
     "data": {
      "text/plain": [
       "0"
      ]
     },
     "execution_count": 89,
     "metadata": {},
     "output_type": "execute_result"
    }
   ],
   "source": [
    "crop.duplicated().sum()"
   ]
  },
  {
   "cell_type": "code",
   "execution_count": 90,
   "id": "3d5b7413",
   "metadata": {
    "scrolled": false
   },
   "outputs": [
    {
     "data": {
      "text/html": [
       "<div>\n",
       "<style scoped>\n",
       "    .dataframe tbody tr th:only-of-type {\n",
       "        vertical-align: middle;\n",
       "    }\n",
       "\n",
       "    .dataframe tbody tr th {\n",
       "        vertical-align: top;\n",
       "    }\n",
       "\n",
       "    .dataframe thead th {\n",
       "        text-align: right;\n",
       "    }\n",
       "</style>\n",
       "<table border=\"1\" class=\"dataframe\">\n",
       "  <thead>\n",
       "    <tr style=\"text-align: right;\">\n",
       "      <th></th>\n",
       "      <th>N</th>\n",
       "      <th>P</th>\n",
       "      <th>K</th>\n",
       "      <th>temperature</th>\n",
       "      <th>humidity</th>\n",
       "      <th>ph</th>\n",
       "      <th>rainfall</th>\n",
       "    </tr>\n",
       "  </thead>\n",
       "  <tbody>\n",
       "    <tr>\n",
       "      <th>count</th>\n",
       "      <td>8800.000000</td>\n",
       "      <td>8800.000000</td>\n",
       "      <td>8800.000000</td>\n",
       "      <td>8800.000000</td>\n",
       "      <td>8800.000000</td>\n",
       "      <td>8800.000000</td>\n",
       "      <td>8800.000000</td>\n",
       "    </tr>\n",
       "    <tr>\n",
       "      <th>mean</th>\n",
       "      <td>55.080909</td>\n",
       "      <td>51.444091</td>\n",
       "      <td>40.482727</td>\n",
       "      <td>26.774572</td>\n",
       "      <td>71.443720</td>\n",
       "      <td>6.609499</td>\n",
       "      <td>100.669506</td>\n",
       "    </tr>\n",
       "    <tr>\n",
       "      <th>std</th>\n",
       "      <td>37.059675</td>\n",
       "      <td>27.973451</td>\n",
       "      <td>38.555468</td>\n",
       "      <td>5.322922</td>\n",
       "      <td>22.761454</td>\n",
       "      <td>0.877838</td>\n",
       "      <td>56.017885</td>\n",
       "    </tr>\n",
       "    <tr>\n",
       "      <th>min</th>\n",
       "      <td>0.000000</td>\n",
       "      <td>4.000000</td>\n",
       "      <td>5.000000</td>\n",
       "      <td>8.825675</td>\n",
       "      <td>14.258040</td>\n",
       "      <td>3.504752</td>\n",
       "      <td>20.211267</td>\n",
       "    </tr>\n",
       "    <tr>\n",
       "      <th>25%</th>\n",
       "      <td>25.000000</td>\n",
       "      <td>30.000000</td>\n",
       "      <td>20.000000</td>\n",
       "      <td>23.826868</td>\n",
       "      <td>58.192235</td>\n",
       "      <td>6.081469</td>\n",
       "      <td>60.745835</td>\n",
       "    </tr>\n",
       "    <tr>\n",
       "      <th>50%</th>\n",
       "      <td>42.000000</td>\n",
       "      <td>51.000000</td>\n",
       "      <td>29.000000</td>\n",
       "      <td>26.924435</td>\n",
       "      <td>79.960550</td>\n",
       "      <td>6.566980</td>\n",
       "      <td>90.402966</td>\n",
       "    </tr>\n",
       "    <tr>\n",
       "      <th>75%</th>\n",
       "      <td>89.000000</td>\n",
       "      <td>66.000000</td>\n",
       "      <td>46.000000</td>\n",
       "      <td>29.774256</td>\n",
       "      <td>89.417267</td>\n",
       "      <td>7.086870</td>\n",
       "      <td>122.704272</td>\n",
       "    </tr>\n",
       "    <tr>\n",
       "      <th>max</th>\n",
       "      <td>149.000000</td>\n",
       "      <td>150.000000</td>\n",
       "      <td>206.000000</td>\n",
       "      <td>46.732778</td>\n",
       "      <td>104.980970</td>\n",
       "      <td>10.233143</td>\n",
       "      <td>298.560117</td>\n",
       "    </tr>\n",
       "  </tbody>\n",
       "</table>\n",
       "</div>"
      ],
      "text/plain": [
       "                 N            P            K  temperature     humidity  \\\n",
       "count  8800.000000  8800.000000  8800.000000  8800.000000  8800.000000   \n",
       "mean     55.080909    51.444091    40.482727    26.774572    71.443720   \n",
       "std      37.059675    27.973451    38.555468     5.322922    22.761454   \n",
       "min       0.000000     4.000000     5.000000     8.825675    14.258040   \n",
       "25%      25.000000    30.000000    20.000000    23.826868    58.192235   \n",
       "50%      42.000000    51.000000    29.000000    26.924435    79.960550   \n",
       "75%      89.000000    66.000000    46.000000    29.774256    89.417267   \n",
       "max     149.000000   150.000000   206.000000    46.732778   104.980970   \n",
       "\n",
       "                ph     rainfall  \n",
       "count  8800.000000  8800.000000  \n",
       "mean      6.609499   100.669506  \n",
       "std       0.877838    56.017885  \n",
       "min       3.504752    20.211267  \n",
       "25%       6.081469    60.745835  \n",
       "50%       6.566980    90.402966  \n",
       "75%       7.086870   122.704272  \n",
       "max      10.233143   298.560117  "
      ]
     },
     "execution_count": 90,
     "metadata": {},
     "output_type": "execute_result"
    }
   ],
   "source": [
    "crop.describe()"
   ]
  },
  {
   "cell_type": "markdown",
   "id": "b10cce9f",
   "metadata": {},
   "source": [
    "# Exploring Data"
   ]
  },
  {
   "cell_type": "code",
   "execution_count": 91,
   "id": "709d06f9",
   "metadata": {},
   "outputs": [
    {
     "data": {
      "text/html": [
       "<div>\n",
       "<style scoped>\n",
       "    .dataframe tbody tr th:only-of-type {\n",
       "        vertical-align: middle;\n",
       "    }\n",
       "\n",
       "    .dataframe tbody tr th {\n",
       "        vertical-align: top;\n",
       "    }\n",
       "\n",
       "    .dataframe thead th {\n",
       "        text-align: right;\n",
       "    }\n",
       "</style>\n",
       "<table border=\"1\" class=\"dataframe\">\n",
       "  <thead>\n",
       "    <tr style=\"text-align: right;\">\n",
       "      <th></th>\n",
       "      <th>N</th>\n",
       "      <th>P</th>\n",
       "      <th>K</th>\n",
       "      <th>temperature</th>\n",
       "      <th>humidity</th>\n",
       "      <th>ph</th>\n",
       "      <th>rainfall</th>\n",
       "    </tr>\n",
       "  </thead>\n",
       "  <tbody>\n",
       "    <tr>\n",
       "      <th>N</th>\n",
       "      <td>1.000000</td>\n",
       "      <td>-0.151694</td>\n",
       "      <td>-0.013823</td>\n",
       "      <td>-0.008321</td>\n",
       "      <td>0.256242</td>\n",
       "      <td>0.052610</td>\n",
       "      <td>0.096882</td>\n",
       "    </tr>\n",
       "    <tr>\n",
       "      <th>P</th>\n",
       "      <td>-0.151694</td>\n",
       "      <td>1.000000</td>\n",
       "      <td>0.599535</td>\n",
       "      <td>-0.071754</td>\n",
       "      <td>-0.269703</td>\n",
       "      <td>-0.065218</td>\n",
       "      <td>-0.094005</td>\n",
       "    </tr>\n",
       "    <tr>\n",
       "      <th>K</th>\n",
       "      <td>-0.013823</td>\n",
       "      <td>0.599535</td>\n",
       "      <td>1.000000</td>\n",
       "      <td>-0.107355</td>\n",
       "      <td>0.094312</td>\n",
       "      <td>-0.090915</td>\n",
       "      <td>-0.078071</td>\n",
       "    </tr>\n",
       "    <tr>\n",
       "      <th>temperature</th>\n",
       "      <td>-0.008321</td>\n",
       "      <td>-0.071754</td>\n",
       "      <td>-0.107355</td>\n",
       "      <td>1.000000</td>\n",
       "      <td>0.225111</td>\n",
       "      <td>-0.004882</td>\n",
       "      <td>-0.042752</td>\n",
       "    </tr>\n",
       "    <tr>\n",
       "      <th>humidity</th>\n",
       "      <td>0.256242</td>\n",
       "      <td>-0.269703</td>\n",
       "      <td>0.094312</td>\n",
       "      <td>0.225111</td>\n",
       "      <td>1.000000</td>\n",
       "      <td>0.018312</td>\n",
       "      <td>0.116706</td>\n",
       "    </tr>\n",
       "    <tr>\n",
       "      <th>ph</th>\n",
       "      <td>0.052610</td>\n",
       "      <td>-0.065218</td>\n",
       "      <td>-0.090915</td>\n",
       "      <td>-0.004882</td>\n",
       "      <td>0.018312</td>\n",
       "      <td>1.000000</td>\n",
       "      <td>-0.103675</td>\n",
       "    </tr>\n",
       "    <tr>\n",
       "      <th>rainfall</th>\n",
       "      <td>0.096882</td>\n",
       "      <td>-0.094005</td>\n",
       "      <td>-0.078071</td>\n",
       "      <td>-0.042752</td>\n",
       "      <td>0.116706</td>\n",
       "      <td>-0.103675</td>\n",
       "      <td>1.000000</td>\n",
       "    </tr>\n",
       "  </tbody>\n",
       "</table>\n",
       "</div>"
      ],
      "text/plain": [
       "                    N         P         K  temperature  humidity        ph  \\\n",
       "N            1.000000 -0.151694 -0.013823    -0.008321  0.256242  0.052610   \n",
       "P           -0.151694  1.000000  0.599535    -0.071754 -0.269703 -0.065218   \n",
       "K           -0.013823  0.599535  1.000000    -0.107355  0.094312 -0.090915   \n",
       "temperature -0.008321 -0.071754 -0.107355     1.000000  0.225111 -0.004882   \n",
       "humidity     0.256242 -0.269703  0.094312     0.225111  1.000000  0.018312   \n",
       "ph           0.052610 -0.065218 -0.090915    -0.004882  0.018312  1.000000   \n",
       "rainfall     0.096882 -0.094005 -0.078071    -0.042752  0.116706 -0.103675   \n",
       "\n",
       "             rainfall  \n",
       "N            0.096882  \n",
       "P           -0.094005  \n",
       "K           -0.078071  \n",
       "temperature -0.042752  \n",
       "humidity     0.116706  \n",
       "ph          -0.103675  \n",
       "rainfall     1.000000  "
      ]
     },
     "execution_count": 91,
     "metadata": {},
     "output_type": "execute_result"
    }
   ],
   "source": [
    "corr = crop.corr()\n",
    "corr"
   ]
  },
  {
   "cell_type": "code",
   "execution_count": 92,
   "id": "c7d9248f",
   "metadata": {},
   "outputs": [],
   "source": [
    "from warnings import simplefilter\n",
    "simplefilter(action='ignore', category=FutureWarning)"
   ]
  },
  {
   "cell_type": "code",
   "execution_count": 93,
   "id": "95040822",
   "metadata": {},
   "outputs": [
    {
     "data": {
      "text/plain": [
       "<AxesSubplot:>"
      ]
     },
     "execution_count": 93,
     "metadata": {},
     "output_type": "execute_result"
    },
    {
     "data": {
      "image/png": "[encoded data removed]",
      "text/plain": [
       "<Figure size 600x600 with 2 Axes>"
      ]
     },
     "metadata": {},
     "output_type": "display_data"
    }
   ],
   "source": [
    "import seaborn as sns\n",
    "sns.heatmap(corr,annot=True,cbar=True, cmap='coolwarm')"
   ]
  },
  {
   "cell_type": "code",
   "execution_count": 94,
   "id": "c6aff936",
   "metadata": {},
   "outputs": [
    {
     "data": {
      "image/png": "[encoded data removed]",
      "text/plain": [
       "<Figure size 600x600 with 7 Axes>"
      ]
     },
     "metadata": {},
     "output_type": "display_data"
    }
   ],
   "source": [
    "# over all distribution\n",
    "\n",
    "plt.rcParams['figure.figsize'] = (10, 10)\n",
    "plt.rcParams['figure.dpi'] = 60\n",
    "\n",
    "features = ['N', 'P', 'K', 'temperature',\n",
    "\t\t\t'humidity', 'ph', 'rainfall']\n",
    "\n",
    "for i, feat in enumerate(features):\n",
    "\tplt.subplot(4, 2, i + 1)\n",
    "\tsns.distplot(crop[feat], color='greenyellow')\n",
    "\tif i < 3:\n",
    "\t\tplt.title(f'Ratio of {feat}', fontsize=12)\n",
    "\telse:\n",
    "\t\tplt.title(f'Distribution of {feat}', fontsize=12)\n",
    "\tplt.tight_layout()\n",
    "\tplt.grid()\n"
   ]
  },
  {
   "cell_type": "code",
   "execution_count": 95,
   "id": "843b2d6a",
   "metadata": {},
   "outputs": [],
   "source": [
    "# sns.pairplot(crop, hue='label')\n"
   ]
  },
  {
   "cell_type": "code",
   "execution_count": 96,
   "id": "1056bfba",
   "metadata": {},
   "outputs": [
    {
     "data": {
      "text/plain": [
       "rice           400\n",
       "maize          400\n",
       "coffee         400\n",
       "jute           400\n",
       "cotton         400\n",
       "coconut        400\n",
       "papaya         400\n",
       "orange         400\n",
       "muskmelon      400\n",
       "watermelon     400\n",
       "grapes         400\n",
       "mango          400\n",
       "banana         400\n",
       "pomegranate    400\n",
       "lentil         400\n",
       "blackgram      400\n",
       "mungbean       400\n",
       "mothbeans      400\n",
       "pigeonpeas     400\n",
       "kidneybeans    400\n",
       "chickpea       400\n",
       "groundnuts     400\n",
       "Name: label, dtype: int64"
      ]
     },
     "execution_count": 96,
     "metadata": {},
     "output_type": "execute_result"
    }
   ],
   "source": [
    "crop['label'].value_counts()"
   ]
  },
  {
   "cell_type": "code",
   "execution_count": 97,
   "id": "28421986",
   "metadata": {},
   "outputs": [
    {
     "data": {
      "image/png": "[encoded data removed]",
      "text/plain": [
       "<Figure size 600x600 with 1 Axes>"
      ]
     },
     "metadata": {},
     "output_type": "display_data"
    }
   ],
   "source": [
    "import matplotlib.pyplot as plt\n",
    "sns.distplot(crop['N'])\n",
    "plt.show()"
   ]
  },
  {
   "cell_type": "markdown",
   "id": "3e3af150",
   "metadata": {},
   "source": [
    "# Encoding"
   ]
  },
  {
   "cell_type": "code",
   "execution_count": 98,
   "id": "8c35d395",
   "metadata": {},
   "outputs": [],
   "source": [
    "crop_dict = {\n",
    "    'rice': 1,\n",
    "    'maize': 2,\n",
    "    'jute': 3,\n",
    "    'cotton': 4,\n",
    "    'coconut': 5,\n",
    "    'papaya': 6,\n",
    "    'orange': 7,\n",
    "    'groundnuts': 8,\n",
    "    'muskmelon': 9,\n",
    "    'watermelon': 10,\n",
    "    'grapes': 11,\n",
    "    'mango': 12,\n",
    "    'banana': 13,\n",
    "    'pomegranate': 14,\n",
    "    'lentil': 15,\n",
    "    'blackgram': 16,\n",
    "    'mungbean': 17,\n",
    "    'mothbeans': 18,\n",
    "    'pigeonpeas': 19,\n",
    "    'kidneybeans': 20,\n",
    "    'chickpea': 21,\n",
    "    'coffee': 22\n",
    "}\n",
    "crop['crop_num']=crop['label'].map(crop_dict)"
   ]
  },
  {
   "cell_type": "code",
   "execution_count": 99,
   "id": "b1a53f7f",
   "metadata": {},
   "outputs": [
    {
     "data": {
      "text/plain": [
       "1     400\n",
       "2     400\n",
       "22    400\n",
       "3     400\n",
       "4     400\n",
       "5     400\n",
       "6     400\n",
       "7     400\n",
       "9     400\n",
       "10    400\n",
       "11    400\n",
       "12    400\n",
       "13    400\n",
       "14    400\n",
       "15    400\n",
       "16    400\n",
       "17    400\n",
       "18    400\n",
       "19    400\n",
       "20    400\n",
       "21    400\n",
       "8     400\n",
       "Name: crop_num, dtype: int64"
      ]
     },
     "execution_count": 99,
     "metadata": {},
     "output_type": "execute_result"
    }
   ],
   "source": [
    "crop['crop_num'].value_counts()"
   ]
  },
  {
   "cell_type": "code",
   "execution_count": 100,
   "id": "dff5caca",
   "metadata": {},
   "outputs": [
    {
     "data": {
      "text/html": [
       "<div>\n",
       "<style scoped>\n",
       "    .dataframe tbody tr th:only-of-type {\n",
       "        vertical-align: middle;\n",
       "    }\n",
       "\n",
       "    .dataframe tbody tr th {\n",
       "        vertical-align: top;\n",
       "    }\n",
       "\n",
       "    .dataframe thead th {\n",
       "        text-align: right;\n",
       "    }\n",
       "</style>\n",
       "<table border=\"1\" class=\"dataframe\">\n",
       "  <thead>\n",
       "    <tr style=\"text-align: right;\">\n",
       "      <th></th>\n",
       "      <th>N</th>\n",
       "      <th>P</th>\n",
       "      <th>K</th>\n",
       "      <th>temperature</th>\n",
       "      <th>humidity</th>\n",
       "      <th>ph</th>\n",
       "      <th>rainfall</th>\n",
       "      <th>label</th>\n",
       "      <th>crop_num</th>\n",
       "    </tr>\n",
       "  </thead>\n",
       "  <tbody>\n",
       "    <tr>\n",
       "      <th>0</th>\n",
       "      <td>90</td>\n",
       "      <td>42</td>\n",
       "      <td>43</td>\n",
       "      <td>20.879744</td>\n",
       "      <td>82.002744</td>\n",
       "      <td>6.502985</td>\n",
       "      <td>202.935536</td>\n",
       "      <td>rice</td>\n",
       "      <td>1</td>\n",
       "    </tr>\n",
       "    <tr>\n",
       "      <th>1</th>\n",
       "      <td>85</td>\n",
       "      <td>58</td>\n",
       "      <td>41</td>\n",
       "      <td>21.770462</td>\n",
       "      <td>80.319644</td>\n",
       "      <td>7.038096</td>\n",
       "      <td>226.655537</td>\n",
       "      <td>rice</td>\n",
       "      <td>1</td>\n",
       "    </tr>\n",
       "    <tr>\n",
       "      <th>2</th>\n",
       "      <td>60</td>\n",
       "      <td>55</td>\n",
       "      <td>44</td>\n",
       "      <td>23.004459</td>\n",
       "      <td>82.320763</td>\n",
       "      <td>7.840207</td>\n",
       "      <td>263.964248</td>\n",
       "      <td>rice</td>\n",
       "      <td>1</td>\n",
       "    </tr>\n",
       "    <tr>\n",
       "      <th>3</th>\n",
       "      <td>74</td>\n",
       "      <td>35</td>\n",
       "      <td>40</td>\n",
       "      <td>26.491096</td>\n",
       "      <td>80.158363</td>\n",
       "      <td>6.980401</td>\n",
       "      <td>242.864034</td>\n",
       "      <td>rice</td>\n",
       "      <td>1</td>\n",
       "    </tr>\n",
       "    <tr>\n",
       "      <th>4</th>\n",
       "      <td>78</td>\n",
       "      <td>42</td>\n",
       "      <td>42</td>\n",
       "      <td>20.130175</td>\n",
       "      <td>81.604873</td>\n",
       "      <td>7.628473</td>\n",
       "      <td>262.717340</td>\n",
       "      <td>rice</td>\n",
       "      <td>1</td>\n",
       "    </tr>\n",
       "  </tbody>\n",
       "</table>\n",
       "</div>"
      ],
      "text/plain": [
       "    N   P   K  temperature   humidity        ph    rainfall label  crop_num\n",
       "0  90  42  43    20.879744  82.002744  6.502985  202.935536  rice         1\n",
       "1  85  58  41    21.770462  80.319644  7.038096  226.655537  rice         1\n",
       "2  60  55  44    23.004459  82.320763  7.840207  263.964248  rice         1\n",
       "3  74  35  40    26.491096  80.158363  6.980401  242.864034  rice         1\n",
       "4  78  42  42    20.130175  81.604873  7.628473  262.717340  rice         1"
      ]
     },
     "execution_count": 100,
     "metadata": {},
     "output_type": "execute_result"
    }
   ],
   "source": [
    "\n",
    "crop.head()"
   ]
  },
  {
   "cell_type": "markdown",
   "id": "a5494675",
   "metadata": {},
   "source": [
    "# Train Test Split"
   ]
  },
  {
   "cell_type": "code",
   "execution_count": 101,
   "id": "5a049f55",
   "metadata": {},
   "outputs": [],
   "source": [
    "X = crop.drop(['crop_num','label'],axis=1)\n",
    "y = crop['crop_num']"
   ]
  },
  {
   "cell_type": "code",
   "execution_count": 102,
   "id": "9d223a69",
   "metadata": {},
   "outputs": [
    {
     "data": {
      "text/html": [
       "<div>\n",
       "<style scoped>\n",
       "    .dataframe tbody tr th:only-of-type {\n",
       "        vertical-align: middle;\n",
       "    }\n",
       "\n",
       "    .dataframe tbody tr th {\n",
       "        vertical-align: top;\n",
       "    }\n",
       "\n",
       "    .dataframe thead th {\n",
       "        text-align: right;\n",
       "    }\n",
       "</style>\n",
       "<table border=\"1\" class=\"dataframe\">\n",
       "  <thead>\n",
       "    <tr style=\"text-align: right;\">\n",
       "      <th></th>\n",
       "      <th>N</th>\n",
       "      <th>P</th>\n",
       "      <th>K</th>\n",
       "      <th>temperature</th>\n",
       "      <th>humidity</th>\n",
       "      <th>ph</th>\n",
       "      <th>rainfall</th>\n",
       "    </tr>\n",
       "  </thead>\n",
       "  <tbody>\n",
       "    <tr>\n",
       "      <th>0</th>\n",
       "      <td>90</td>\n",
       "      <td>42</td>\n",
       "      <td>43</td>\n",
       "      <td>20.879744</td>\n",
       "      <td>82.002744</td>\n",
       "      <td>6.502985</td>\n",
       "      <td>202.935536</td>\n",
       "    </tr>\n",
       "    <tr>\n",
       "      <th>1</th>\n",
       "      <td>85</td>\n",
       "      <td>58</td>\n",
       "      <td>41</td>\n",
       "      <td>21.770462</td>\n",
       "      <td>80.319644</td>\n",
       "      <td>7.038096</td>\n",
       "      <td>226.655537</td>\n",
       "    </tr>\n",
       "    <tr>\n",
       "      <th>2</th>\n",
       "      <td>60</td>\n",
       "      <td>55</td>\n",
       "      <td>44</td>\n",
       "      <td>23.004459</td>\n",
       "      <td>82.320763</td>\n",
       "      <td>7.840207</td>\n",
       "      <td>263.964248</td>\n",
       "    </tr>\n",
       "    <tr>\n",
       "      <th>3</th>\n",
       "      <td>74</td>\n",
       "      <td>35</td>\n",
       "      <td>40</td>\n",
       "      <td>26.491096</td>\n",
       "      <td>80.158363</td>\n",
       "      <td>6.980401</td>\n",
       "      <td>242.864034</td>\n",
       "    </tr>\n",
       "    <tr>\n",
       "      <th>4</th>\n",
       "      <td>78</td>\n",
       "      <td>42</td>\n",
       "      <td>42</td>\n",
       "      <td>20.130175</td>\n",
       "      <td>81.604873</td>\n",
       "      <td>7.628473</td>\n",
       "      <td>262.717340</td>\n",
       "    </tr>\n",
       "    <tr>\n",
       "      <th>...</th>\n",
       "      <td>...</td>\n",
       "      <td>...</td>\n",
       "      <td>...</td>\n",
       "      <td>...</td>\n",
       "      <td>...</td>\n",
       "      <td>...</td>\n",
       "      <td>...</td>\n",
       "    </tr>\n",
       "    <tr>\n",
       "      <th>8795</th>\n",
       "      <td>13</td>\n",
       "      <td>63</td>\n",
       "      <td>23</td>\n",
       "      <td>31.391055</td>\n",
       "      <td>51.453392</td>\n",
       "      <td>9.181497</td>\n",
       "      <td>42.440543</td>\n",
       "    </tr>\n",
       "    <tr>\n",
       "      <th>8796</th>\n",
       "      <td>31</td>\n",
       "      <td>55</td>\n",
       "      <td>17</td>\n",
       "      <td>29.923445</td>\n",
       "      <td>64.416451</td>\n",
       "      <td>8.898774</td>\n",
       "      <td>70.104721</td>\n",
       "    </tr>\n",
       "    <tr>\n",
       "      <th>8797</th>\n",
       "      <td>42</td>\n",
       "      <td>51</td>\n",
       "      <td>18</td>\n",
       "      <td>26.608803</td>\n",
       "      <td>50.689086</td>\n",
       "      <td>8.880159</td>\n",
       "      <td>63.918765</td>\n",
       "    </tr>\n",
       "    <tr>\n",
       "      <th>8798</th>\n",
       "      <td>11</td>\n",
       "      <td>55</td>\n",
       "      <td>18</td>\n",
       "      <td>27.688200</td>\n",
       "      <td>48.261590</td>\n",
       "      <td>6.013664</td>\n",
       "      <td>38.532547</td>\n",
       "    </tr>\n",
       "    <tr>\n",
       "      <th>8799</th>\n",
       "      <td>25</td>\n",
       "      <td>55</td>\n",
       "      <td>22</td>\n",
       "      <td>33.191011</td>\n",
       "      <td>52.475590</td>\n",
       "      <td>6.727969</td>\n",
       "      <td>32.812965</td>\n",
       "    </tr>\n",
       "  </tbody>\n",
       "</table>\n",
       "<p>8800 rows × 7 columns</p>\n",
       "</div>"
      ],
      "text/plain": [
       "       N   P   K  temperature   humidity        ph    rainfall\n",
       "0     90  42  43    20.879744  82.002744  6.502985  202.935536\n",
       "1     85  58  41    21.770462  80.319644  7.038096  226.655537\n",
       "2     60  55  44    23.004459  82.320763  7.840207  263.964248\n",
       "3     74  35  40    26.491096  80.158363  6.980401  242.864034\n",
       "4     78  42  42    20.130175  81.604873  7.628473  262.717340\n",
       "...   ..  ..  ..          ...        ...       ...         ...\n",
       "8795  13  63  23    31.391055  51.453392  9.181497   42.440543\n",
       "8796  31  55  17    29.923445  64.416451  8.898774   70.104721\n",
       "8797  42  51  18    26.608803  50.689086  8.880159   63.918765\n",
       "8798  11  55  18    27.688200  48.261590  6.013664   38.532547\n",
       "8799  25  55  22    33.191011  52.475590  6.727969   32.812965\n",
       "\n",
       "[8800 rows x 7 columns]"
      ]
     },
     "execution_count": 102,
     "metadata": {},
     "output_type": "execute_result"
    }
   ],
   "source": [
    "X"
   ]
  },
  {
   "cell_type": "code",
   "execution_count": 103,
   "id": "c561ea31",
   "metadata": {},
   "outputs": [
    {
     "data": {
      "text/plain": [
       "(8800,)"
      ]
     },
     "execution_count": 103,
     "metadata": {},
     "output_type": "execute_result"
    }
   ],
   "source": [
    "y.shape"
   ]
  },
  {
   "cell_type": "code",
   "execution_count": 104,
   "id": "caba8efb",
   "metadata": {},
   "outputs": [],
   "source": [
    "from sklearn.model_selection import train_test_split"
   ]
  },
  {
   "cell_type": "code",
   "execution_count": 105,
   "id": "6774a9dd",
   "metadata": {},
   "outputs": [],
   "source": [
    "\n",
    "X_train, X_test, y_train, y_test = train_test_split(X, y, test_size=0.2, random_state=42)"
   ]
  },
  {
   "cell_type": "code",
   "execution_count": 106,
   "id": "bf57e524",
   "metadata": {},
   "outputs": [
    {
     "data": {
      "text/plain": [
       "(7040, 7)"
      ]
     },
     "execution_count": 106,
     "metadata": {},
     "output_type": "execute_result"
    }
   ],
   "source": [
    "X_train.shape"
   ]
  },
  {
   "cell_type": "code",
   "execution_count": 107,
   "id": "81d69b3e",
   "metadata": {},
   "outputs": [
    {
     "data": {
      "text/plain": [
       "(1760, 7)"
      ]
     },
     "execution_count": 107,
     "metadata": {},
     "output_type": "execute_result"
    }
   ],
   "source": [
    "X_test.shape"
   ]
  },
  {
   "cell_type": "code",
   "execution_count": 108,
   "id": "20ec83a7",
   "metadata": {},
   "outputs": [
    {
     "data": {
      "text/html": [
       "<div>\n",
       "<style scoped>\n",
       "    .dataframe tbody tr th:only-of-type {\n",
       "        vertical-align: middle;\n",
       "    }\n",
       "\n",
       "    .dataframe tbody tr th {\n",
       "        vertical-align: top;\n",
       "    }\n",
       "\n",
       "    .dataframe thead th {\n",
       "        text-align: right;\n",
       "    }\n",
       "</style>\n",
       "<table border=\"1\" class=\"dataframe\">\n",
       "  <thead>\n",
       "    <tr style=\"text-align: right;\">\n",
       "      <th></th>\n",
       "      <th>N</th>\n",
       "      <th>P</th>\n",
       "      <th>K</th>\n",
       "      <th>temperature</th>\n",
       "      <th>humidity</th>\n",
       "      <th>ph</th>\n",
       "      <th>rainfall</th>\n",
       "    </tr>\n",
       "  </thead>\n",
       "  <tbody>\n",
       "    <tr>\n",
       "      <th>2067</th>\n",
       "      <td>89</td>\n",
       "      <td>28</td>\n",
       "      <td>33</td>\n",
       "      <td>26.444141</td>\n",
       "      <td>53.838762</td>\n",
       "      <td>6.993236</td>\n",
       "      <td>175.372331</td>\n",
       "    </tr>\n",
       "    <tr>\n",
       "      <th>4982</th>\n",
       "      <td>26</td>\n",
       "      <td>56</td>\n",
       "      <td>25</td>\n",
       "      <td>26.804744</td>\n",
       "      <td>48.239914</td>\n",
       "      <td>3.525366</td>\n",
       "      <td>43.878020</td>\n",
       "    </tr>\n",
       "    <tr>\n",
       "      <th>8648</th>\n",
       "      <td>94</td>\n",
       "      <td>39</td>\n",
       "      <td>33</td>\n",
       "      <td>28.086732</td>\n",
       "      <td>57.000487</td>\n",
       "      <td>7.059632</td>\n",
       "      <td>133.112023</td>\n",
       "    </tr>\n",
       "    <tr>\n",
       "      <th>1643</th>\n",
       "      <td>59</td>\n",
       "      <td>62</td>\n",
       "      <td>52</td>\n",
       "      <td>43.675493</td>\n",
       "      <td>93.108872</td>\n",
       "      <td>6.608668</td>\n",
       "      <td>103.823566</td>\n",
       "    </tr>\n",
       "    <tr>\n",
       "      <th>106</th>\n",
       "      <td>93</td>\n",
       "      <td>41</td>\n",
       "      <td>17</td>\n",
       "      <td>25.621717</td>\n",
       "      <td>66.504155</td>\n",
       "      <td>6.047907</td>\n",
       "      <td>105.465470</td>\n",
       "    </tr>\n",
       "    <tr>\n",
       "      <th>...</th>\n",
       "      <td>...</td>\n",
       "      <td>...</td>\n",
       "      <td>...</td>\n",
       "      <td>...</td>\n",
       "      <td>...</td>\n",
       "      <td>...</td>\n",
       "      <td>...</td>\n",
       "    </tr>\n",
       "    <tr>\n",
       "      <th>5734</th>\n",
       "      <td>105</td>\n",
       "      <td>13</td>\n",
       "      <td>51</td>\n",
       "      <td>26.179346</td>\n",
       "      <td>86.522581</td>\n",
       "      <td>6.259336</td>\n",
       "      <td>49.430510</td>\n",
       "    </tr>\n",
       "    <tr>\n",
       "      <th>5191</th>\n",
       "      <td>66</td>\n",
       "      <td>63</td>\n",
       "      <td>17</td>\n",
       "      <td>28.546224</td>\n",
       "      <td>66.313941</td>\n",
       "      <td>7.368319</td>\n",
       "      <td>62.834699</td>\n",
       "    </tr>\n",
       "    <tr>\n",
       "      <th>5390</th>\n",
       "      <td>16</td>\n",
       "      <td>21</td>\n",
       "      <td>36</td>\n",
       "      <td>23.779890</td>\n",
       "      <td>92.933869</td>\n",
       "      <td>5.893332</td>\n",
       "      <td>106.977723</td>\n",
       "    </tr>\n",
       "    <tr>\n",
       "      <th>860</th>\n",
       "      <td>32</td>\n",
       "      <td>78</td>\n",
       "      <td>22</td>\n",
       "      <td>23.970814</td>\n",
       "      <td>62.355576</td>\n",
       "      <td>7.007038</td>\n",
       "      <td>53.409060</td>\n",
       "    </tr>\n",
       "    <tr>\n",
       "      <th>7270</th>\n",
       "      <td>29</td>\n",
       "      <td>45</td>\n",
       "      <td>21</td>\n",
       "      <td>31.322202</td>\n",
       "      <td>93.961877</td>\n",
       "      <td>7.285240</td>\n",
       "      <td>50.924655</td>\n",
       "    </tr>\n",
       "  </tbody>\n",
       "</table>\n",
       "<p>7040 rows × 7 columns</p>\n",
       "</div>"
      ],
      "text/plain": [
       "        N   P   K  temperature   humidity        ph    rainfall\n",
       "2067   89  28  33    26.444141  53.838762  6.993236  175.372331\n",
       "4982   26  56  25    26.804744  48.239914  3.525366   43.878020\n",
       "8648   94  39  33    28.086732  57.000487  7.059632  133.112023\n",
       "1643   59  62  52    43.675493  93.108872  6.608668  103.823566\n",
       "106    93  41  17    25.621717  66.504155  6.047907  105.465470\n",
       "...   ...  ..  ..          ...        ...       ...         ...\n",
       "5734  105  13  51    26.179346  86.522581  6.259336   49.430510\n",
       "5191   66  63  17    28.546224  66.313941  7.368319   62.834699\n",
       "5390   16  21  36    23.779890  92.933869  5.893332  106.977723\n",
       "860    32  78  22    23.970814  62.355576  7.007038   53.409060\n",
       "7270   29  45  21    31.322202  93.961877  7.285240   50.924655\n",
       "\n",
       "[7040 rows x 7 columns]"
      ]
     },
     "execution_count": 108,
     "metadata": {},
     "output_type": "execute_result"
    }
   ],
   "source": [
    "X_train"
   ]
  },
  {
   "cell_type": "markdown",
   "id": "ab13cdf8",
   "metadata": {},
   "source": [
    "\n",
    "# Scale the features using MinMaxScaler"
   ]
  },
  {
   "cell_type": "code",
   "execution_count": 109,
   "id": "f19981a7",
   "metadata": {},
   "outputs": [],
   "source": [
    "from sklearn.preprocessing import MinMaxScaler\n",
    "ms = MinMaxScaler()\n",
    "\n",
    "X_train = ms.fit_transform(X_train)\n",
    "X_test = ms.transform(X_test)"
   ]
  },
  {
   "cell_type": "code",
   "execution_count": 110,
   "id": "f3f50c64",
   "metadata": {},
   "outputs": [
    {
     "data": {
      "text/plain": [
       "array([[0.59731544, 0.16438356, 0.13930348, ..., 0.43628135, 0.51847219,\n",
       "        0.55743382],\n",
       "       [0.17449664, 0.35616438, 0.09950249, ..., 0.37456765, 0.0030637 ,\n",
       "        0.08502551],\n",
       "       [0.63087248, 0.23972603, 0.13930348, ..., 0.47113169, 0.52834017,\n",
       "        0.40560885],\n",
       "       ...,\n",
       "       [0.10738255, 0.11643836, 0.15422886, ..., 0.86720997, 0.35500018,\n",
       "        0.31171839],\n",
       "       [0.2147651 , 0.50684932, 0.08457711, ..., 0.53015854, 0.52052343,\n",
       "        0.11926686],\n",
       "       [0.19463087, 0.28082192, 0.07960199, ..., 0.87854126, 0.56187093,\n",
       "        0.11034135]])"
      ]
     },
     "execution_count": 110,
     "metadata": {},
     "output_type": "execute_result"
    }
   ],
   "source": [
    "X_train"
   ]
  },
  {
   "cell_type": "markdown",
   "id": "f773f2ff",
   "metadata": {},
   "source": [
    "# Standarization"
   ]
  },
  {
   "cell_type": "code",
   "execution_count": 111,
   "id": "9099b5ac",
   "metadata": {},
   "outputs": [],
   "source": [
    "from sklearn.preprocessing import StandardScaler\n",
    "sc = StandardScaler()\n",
    "\n",
    "\n",
    "sc.fit(X_train)\n",
    "X_train = sc.transform(X_train)\n",
    "X_test = sc.transform(X_test)"
   ]
  },
  {
   "cell_type": "code",
   "execution_count": 112,
   "id": "1f4fd4c5",
   "metadata": {},
   "outputs": [
    {
     "data": {
      "text/plain": [
       "array([[ 0.90830819, -0.83551216, -0.19737943, ..., -0.77938952,\n",
       "         0.44305916,  1.33265157],\n",
       "       [-0.78932247,  0.16187264, -0.40323123, ..., -1.02501134,\n",
       "        -3.52765368, -1.01071826],\n",
       "       [ 1.04304078, -0.44368242, -0.19737943, ..., -0.64068443,\n",
       "         0.51908215,  0.5795275 ],\n",
       "       ...,\n",
       "       [-1.05878765, -1.08485835, -0.120185  , ...,  0.93571544,\n",
       "        -0.81633106,  0.11378621],\n",
       "       [-0.62764336,  0.94553212, -0.48042566, ..., -0.40575634,\n",
       "         0.4588619 , -0.84086488],\n",
       "       [-0.70848291, -0.2299571 , -0.50615714, ...,  0.98081423,\n",
       "         0.77740356, -0.88513965]])"
      ]
     },
     "execution_count": 112,
     "metadata": {},
     "output_type": "execute_result"
    }
   ],
   "source": [
    "X_train"
   ]
  },
  {
   "cell_type": "markdown",
   "id": "752a08ae",
   "metadata": {},
   "source": [
    "# Training Models"
   ]
  },
  {
   "cell_type": "code",
   "execution_count": 113,
   "id": "ac6ef55e",
   "metadata": {},
   "outputs": [
    {
     "name": "stdout",
     "output_type": "stream",
     "text": [
      "Logistic Regression  with accuracy : 0.9193181818181818\n",
      "Naive Bayes  with accuracy : 0.9329545454545455\n",
      "Support Vector Machine  with accuracy : 0.9323863636363636\n",
      "K-Nearest Neighbors  with accuracy : 0.9164772727272728\n",
      "Decision Tree  with accuracy : 0.90625\n",
      "Random Forest  with accuracy : 0.9102272727272728\n",
      "Bagging  with accuracy : 0.9096590909090909\n",
      "AdaBoost  with accuracy : 0.16193181818181818\n",
      "Gradient Boosting  with accuracy : 0.9142045454545454\n",
      "Extra Trees  with accuracy : 0.8710227272727272\n"
     ]
    }
   ],
   "source": [
    "from sklearn.linear_model import LogisticRegression\n",
    "from sklearn.naive_bayes import GaussianNB\n",
    "from sklearn.svm import SVC\n",
    "from sklearn.neighbors import KNeighborsClassifier\n",
    "from sklearn.tree import DecisionTreeClassifier\n",
    "from sklearn.tree import ExtraTreeClassifier\n",
    "from sklearn.ensemble import RandomForestClassifier\n",
    "from sklearn.ensemble import BaggingClassifier\n",
    "from sklearn.ensemble import GradientBoostingClassifier\n",
    "from sklearn.ensemble import AdaBoostClassifier\n",
    "from sklearn.metrics import accuracy_score\n",
    "\n",
    "# create instances of all models\n",
    "models = {\n",
    "    'Logistic Regression': LogisticRegression(solver='lbfgs',max_iter=1000),\n",
    "    'Naive Bayes': GaussianNB(),\n",
    "    'Support Vector Machine': SVC(),\n",
    "    'K-Nearest Neighbors': KNeighborsClassifier(),\n",
    "    'Decision Tree': DecisionTreeClassifier(),\n",
    "    'Random Forest': RandomForestClassifier(),\n",
    "    'Bagging': BaggingClassifier(),\n",
    "    'AdaBoost': AdaBoostClassifier(),\n",
    "    'Gradient Boosting': GradientBoostingClassifier(),\n",
    "    'Extra Trees': ExtraTreeClassifier(),\n",
    "}\n",
    "\n",
    "\n",
    "for name, md in models.items():\n",
    "    md.fit(X_train,y_train)\n",
    "    ypred = md.predict(X_test)\n",
    "    \n",
    "    print(f\"{name}  with accuracy : {accuracy_score(y_test,ypred)}\")"
   ]
  },
  {
   "cell_type": "code",
   "execution_count": 118,
   "id": "4659be4d",
   "metadata": {},
   "outputs": [
    {
     "data": {
      "text/plain": [
       "0.9142045454545454"
      ]
     },
     "execution_count": 118,
     "metadata": {},
     "output_type": "execute_result"
    }
   ],
   "source": [
    "rfc = GradientBoostingClassifier()\n",
    "rfc.fit(X_train,y_train)\n",
    "ypred = rfc.predict(X_test)\n",
    "accuracy_score(y_test,ypred)"
   ]
  },
  {
   "cell_type": "markdown",
   "id": "859d9922",
   "metadata": {},
   "source": [
    "# Predictive System"
   ]
  },
  {
   "cell_type": "code",
   "execution_count": 120,
   "id": "64ffd9d3",
   "metadata": {},
   "outputs": [
    {
     "name": "stdout",
     "output_type": "stream",
     "text": [
      "Mothbeans is a best crop to be cultivated \n"
     ]
    }
   ],
   "source": [
    "def recommendation(N,P,k,temperature,humidity,ph,rainfall):\n",
    "    features = np.array([[N,P,k,temperature,humidity,ph,rainfall]])\n",
    "    transformed_features = ms.fit_transform(features)\n",
    "    transformed_features = sc.fit_transform(transformed_features)\n",
    "    prediction = rfc.predict(transformed_features).reshape(1,-1)\n",
    "    return prediction[0] \n",
    "N = 120\n",
    "P = 50\n",
    "k = 10\n",
    "temperature = 25.0\n",
    "humidity = 76\n",
    "ph = 5.78\n",
    "rainfall = 200\n",
    "predict = recommendation(N,P,k,temperature,humidity,ph,rainfall)\n",
    "\n",
    "crop_dict = {1: \"Rice\", 2: \"Maize\", 3: \"Jute\", 4: \"Cotton\", 5: \"Coconut\", 6: \"Papaya\", 7: \"Orange\", 8: \"groundnuts\", 9: \"Muskmelon\", 10: \"Watermelon\", 11: \"Grapes\", 12: \"Mango\", 13: \"Banana\",\n",
    "                 14: \"Pomegranate\", 15: \"Lentil\", 16: \"Blackgram\", 17: \"Mungbean\", 18: \"Mothbeans\",\n",
    "                 19: \"Pigeonpeas\", 20: \"Kidneybeans\", 21: \"Chickpeas\", 22: \"Coffee\"}\n",
    "\n",
    "if predict[0] in crop_dict:\n",
    "    crop = crop_dict[predict[0]]\n",
    "    print(\"{} is a best crop to be cultivated \".format(crop))\n",
    "else:\n",
    "    print(\"Sorry are not able to recommend a proper crop for this environment\")"
   ]
  },
  {
   "cell_type": "code",
   "execution_count": 117,
   "id": "fa3d3b8c",
   "metadata": {},
   "outputs": [],
   "source": [
    "import pickle\n",
    "pickle.dump(rfc,open('model.pkl','wb'))\n",
    "pickle.dump(ms,open('minmaxscaler.pkl','wb'))\n",
    "pickle.dump(sc,open('standscaler.pkl','wb'))"
   ]
  }
 ],
 "metadata": {
  "kernelspec": {
   "display_name": "Python 3 (ipykernel)",
   "language": "python",
   "name": "python3"
  },
  "language_info": {
   "codemirror_mode": {
    "name": "ipython",
    "version": 3
   },
   "file_extension": ".py",
   "mimetype": "text/x-python",
   "name": "python",
   "nbconvert_exporter": "python",
   "pygments_lexer": "ipython3",
   "version": "3.9.13"
  }
 },
 "nbformat": 4,
 "nbformat_minor": 5
}
